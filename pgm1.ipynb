{
 "cells": [
  {
   "cell_type": "code",
   "execution_count": 7,
   "metadata": {},
   "outputs": [
    {
     "name": "stdout",
     "output_type": "stream",
     "text": [
      "Total number of attributes we have are:  6\n",
      "['Sunny', 'Warm', 'Normal', 'Strong', 'Warm', 'Same', 'Yes']\n",
      "['Sunny', 'Warm', 'High', 'Strong', 'Warm', 'Same', 'Yes']\n",
      "['Rainy', 'Cold', 'High', 'Strong', 'Warm', 'Change', 'No']\n",
      "['Sunny', 'Warm', 'High', 'Strong', 'Cool', 'Change', 'Yes']\n",
      "Hypothesis is : ['0', '0', '0', '0', '0', '0']\n",
      "maximally specific hypothesis is: ['Sunny', 'Warm', '?', 'Strong', '?', '?']\n"
     ]
    }
   ],
   "source": [
    "import csv\n",
    "num_attr = 6\n",
    "print(\"Total number of attributes we have are: \", num_attr)\n",
    "a =[]\n",
    "with open(\"lab1.csv\",\"r\") as csvfile:\n",
    "    reader = csv.reader(csvfile)\n",
    "    for row in reader:\n",
    "        a.append(row)\n",
    "        print(row)\n",
    "hypo = ['0']*num_attr\n",
    "print(\"Hypothesis is :\", hypo)\n",
    "for j in range(0, num_attr):\n",
    "    hypo[j] = a[0][j]\n",
    "for i in range(0 , len(a)):\n",
    "    if a[i][num_attr] == \"Yes\":\n",
    "        for j in range(0 , num_attr):\n",
    "            if a[i][j] != hypo[j]:\n",
    "                hypo[j] =\"?\"\n",
    "print(\"maximally specific hypothesis is:\", hypo)"
   ]
  }
 ],
 "metadata": {
  "kernelspec": {
   "display_name": "Python 3",
   "language": "python",
   "name": "python3"
  },
  "language_info": {
   "codemirror_mode": {
    "name": "ipython",
    "version": 3
   },
   "file_extension": ".py",
   "mimetype": "text/x-python",
   "name": "python",
   "nbconvert_exporter": "python",
   "pygments_lexer": "ipython3",
   "version": "3.8.3"
  }
 },
 "nbformat": 4,
 "nbformat_minor": 4
}
